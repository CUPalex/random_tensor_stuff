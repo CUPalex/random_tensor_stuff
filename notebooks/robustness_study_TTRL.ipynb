{
 "cells": [
  {
   "cell_type": "markdown",
   "metadata": {},
   "source": [
    "# This notebook contains code for adversarial attacks of resnet + TTRL"
   ]
  },
  {
   "cell_type": "code",
   "execution_count": 5,
   "metadata": {},
   "outputs": [
    {
     "name": "stdout",
     "output_type": "stream",
     "text": [
      "Requirement already satisfied: foolbox in c:\\users\\sasha\\anaconda3\\lib\\site-packages (3.3.3)\n",
      "Requirement already satisfied: typing-extensions>=3.7.4.1 in c:\\users\\sasha\\anaconda3\\lib\\site-packages (from foolbox) (3.7.4.3)\n",
      "Requirement already satisfied: GitPython>=3.0.7 in c:\\users\\sasha\\anaconda3\\lib\\site-packages (from foolbox) (3.1.27)\n",
      "Requirement already satisfied: numpy in c:\\users\\sasha\\anaconda3\\lib\\site-packages (from foolbox) (1.21.5)\n",
      "Requirement already satisfied: scipy in c:\\users\\sasha\\anaconda3\\lib\\site-packages (from foolbox) (1.8.0)\n",
      "Requirement already satisfied: requests>=2.24.0 in c:\\users\\sasha\\anaconda3\\lib\\site-packages (from foolbox) (2.27.1)\n",
      "Requirement already satisfied: setuptools in c:\\users\\sasha\\anaconda3\\lib\\site-packages (from foolbox) (50.3.1.post20201107)\n",
      "Requirement already satisfied: eagerpy>=0.30.0 in c:\\users\\sasha\\anaconda3\\lib\\site-packages (from foolbox) (0.30.0)\n",
      "Requirement already satisfied: gitdb<5,>=4.0.1 in c:\\users\\sasha\\anaconda3\\lib\\site-packages (from GitPython>=3.0.7->foolbox) (4.0.9)\n",
      "Requirement already satisfied: urllib3<1.27,>=1.21.1 in c:\\users\\sasha\\anaconda3\\lib\\site-packages (from requests>=2.24.0->foolbox) (1.25.11)\n",
      "Requirement already satisfied: certifi>=2017.4.17 in c:\\users\\sasha\\anaconda3\\lib\\site-packages (from requests>=2.24.0->foolbox) (2020.6.20)\n",
      "Requirement already satisfied: idna<4,>=2.5; python_version >= \"3\" in c:\\users\\sasha\\anaconda3\\lib\\site-packages (from requests>=2.24.0->foolbox) (2.10)\n",
      "Requirement already satisfied: charset-normalizer~=2.0.0; python_version >= \"3\" in c:\\users\\sasha\\anaconda3\\lib\\site-packages (from requests>=2.24.0->foolbox) (2.0.12)\n",
      "Requirement already satisfied: smmap<6,>=3.0.1 in c:\\users\\sasha\\anaconda3\\lib\\site-packages (from gitdb<5,>=4.0.1->GitPython>=3.0.7->foolbox) (5.0.0)\n",
      "Requirement already up-to-date: tensorly in c:\\users\\sasha\\anaconda3\\lib\\site-packages (0.7.0)\n",
      "Requirement already satisfied, skipping upgrade: nose in c:\\users\\sasha\\anaconda3\\lib\\site-packages (from tensorly) (1.3.7)\n",
      "Requirement already satisfied, skipping upgrade: scipy in c:\\users\\sasha\\anaconda3\\lib\\site-packages (from tensorly) (1.8.0)\n",
      "Requirement already satisfied, skipping upgrade: numpy in c:\\users\\sasha\\anaconda3\\lib\\site-packages (from tensorly) (1.21.5)\n",
      "Requirement already up-to-date: tensorly-torch in c:\\users\\sasha\\anaconda3\\lib\\site-packages (0.3.0)\n",
      "Requirement already satisfied, skipping upgrade: nose in c:\\users\\sasha\\anaconda3\\lib\\site-packages (from tensorly-torch) (1.3.7)\n",
      "Requirement already satisfied, skipping upgrade: scipy in c:\\users\\sasha\\anaconda3\\lib\\site-packages (from tensorly-torch) (1.8.0)\n",
      "Requirement already satisfied, skipping upgrade: numpy in c:\\users\\sasha\\anaconda3\\lib\\site-packages (from tensorly-torch) (1.21.5)\n"
     ]
    }
   ],
   "source": [
    "# !pip install foolbox\n",
    "# !pip install -U tensorly\n",
    "# !pip install -U tensorly-torch"
   ]
  },
  {
   "cell_type": "code",
   "execution_count": 10,
   "metadata": {},
   "outputs": [],
   "source": [
    "import tltorch\n",
    "import torch\n",
    "from torch import nn\n",
    "import numpy as np\n",
    "from torch.utils.data import Dataset, DataLoader\n",
    "from torchvision.datasets import CIFAR10\n",
    "import torchvision.transforms as T\n",
    "from tqdm.notebook import tqdm\n",
    "import matplotlib.pyplot as plt\n",
    "from IPython.display import clear_output\n",
    "import foolbox as fb"
   ]
  },
  {
   "cell_type": "code",
   "execution_count": null,
   "metadata": {},
   "outputs": [],
   "source": [
    "from pynvml import *\n",
    "nvmlInit()\n",
    "for ind in range(torch.cuda.device_count()):\n",
    "    print(f'GPU {ind}: ')\n",
    "    h = nvmlDeviceGetHandleByIndex(ind)\n",
    "    info = nvmlDeviceGetMemoryInfo(h)\n",
    "    print(f'\\ttotal    : {info.total}')\n",
    "    print(f'\\tfree     : {info.free}')\n",
    "    print(f'\\tused     : {info.used}')"
   ]
  },
  {
   "cell_type": "code",
   "execution_count": 7,
   "metadata": {},
   "outputs": [
    {
     "data": {
      "text/plain": [
       "device(type='cpu')"
      ]
     },
     "execution_count": 7,
     "metadata": {},
     "output_type": "execute_result"
    }
   ],
   "source": [
    "device = torch.device('cuda:0' if torch.cuda.is_available() else 'cpu')\n",
    "device"
   ]
  },
  {
   "cell_type": "code",
   "execution_count": 8,
   "metadata": {},
   "outputs": [],
   "source": [
    "def get_cifar10_transform(train=True):\n",
    "    if train:\n",
    "        transform = T.Compose([\n",
    "            T.RandomCrop(32, padding=4),\n",
    "            T.RandomHorizontalFlip(),\n",
    "            T.ToTensor(),\n",
    "            T.Normalize((0.49139968, 0.48215827 ,0.44653124), (0.24703233, 0.24348505, 0.26158768), inplace=True)\n",
    "\n",
    "        ])\n",
    "\n",
    "    else:\n",
    "        transform = T.Compose([\n",
    "            T.ToTensor(),\n",
    "            T.Normalize((0.49139968, 0.48215827 ,0.44653124), (0.24703233, 0.24348505, 0.26158768))\n",
    "        ])\n",
    "\n",
    "    return transform"
   ]
  },
  {
   "cell_type": "code",
   "execution_count": 11,
   "metadata": {},
   "outputs": [
    {
     "name": "stdout",
     "output_type": "stream",
     "text": [
      "Files already downloaded and verified\n",
      "Files already downloaded and verified\n"
     ]
    }
   ],
   "source": [
    "batch_size = 32\n",
    "\n",
    "train_set = CIFAR10('CIFAR10', train=True, download=True,\n",
    "                    transform=get_cifar10_transform(train=True))\n",
    "test_set = CIFAR10('CIFAR10', train=False, download=True,\n",
    "                   transform=get_cifar10_transform(train=False))\n",
    "train_loader = DataLoader(train_set, batch_size=batch_size, pin_memory=True, num_workers=2, shuffle=True)\n",
    "test_loader = DataLoader(test_set, batch_size=batch_size, pin_memory=True, num_workers=2)"
   ]
  },
  {
   "cell_type": "code",
   "execution_count": 14,
   "metadata": {},
   "outputs": [],
   "source": [
    "def load_checkpoint(path, model, **kwargs):\n",
    "    model = model.to(device)\n",
    "\n",
    "    checkpoint = torch.load(path, map_location=device)\n",
    "    model.load_state_dict(checkpoint['model_state_dict'])\n",
    "    epoch = checkpoint['epoch']\n",
    "    train_loss = checkpoint['train_loss']\n",
    "    test_loss = checkpoint['test_loss']\n",
    "    train_accuracy = checkpoint['train_accuracy']\n",
    "    test_accuracy = checkpoint['test_accuracy']\n",
    "\n",
    "    return epoch, model, train_loss, test_loss, train_accuracy, test_accuracy"
   ]
  },
  {
   "cell_type": "code",
   "execution_count": 13,
   "metadata": {},
   "outputs": [],
   "source": [
    "def eval_adv_acc(fmodel, val_dataloader, epsilons, attack, device=\"cuda:0\", desc='Evaluating...'):\n",
    "    model.to(device)\n",
    "    model.eval()\n",
    "\n",
    "    accuracy = np.zeros(len(epsilons))\n",
    "\n",
    "    for images, labels in tqdm(val_dataloader, desc=desc):\n",
    "\n",
    "        images = images.to(device)\n",
    "        labels = labels.to(device)\n",
    "        raw, clipped, is_adv = attack(fmodel, images, labels, epsilons=epsilons)\n",
    "    \n",
    "        accuracy += (1 - is_adv.double().mean(axis=-1)).cpu().numpy()\n",
    "\n",
    "    return accuracy / len(val_dataloader)"
   ]
  },
  {
   "cell_type": "code",
   "execution_count": null,
   "metadata": {},
   "outputs": [],
   "source": [
    "import sys\n",
    "sys.path.insert(0,'../models')\n",
    "from TTCL import TTCL\n",
    "from conv_models import Model, ModelConv"
   ]
  },
  {
   "cell_type": "markdown",
   "metadata": {},
   "source": [
    "## PGD attack"
   ]
  },
  {
   "cell_type": "code",
   "execution_count": null,
   "metadata": {},
   "outputs": [],
   "source": [
    "# epsilons = [2 * 1e-3 / 255, 8 * 1e-3 / 255, 16 * 1e-3 / 255]\n",
    "epsilons = np.linspace(0.0, 1e-1, num=5)\n",
    "attack = fb.attacks.PGD()\n",
    "\n",
    "folder = 'trained_models/'\n",
    "files = ['TTCL-conv--epoch100.pt', 'TTCL-p-1-epoch100.pt', 'TTCL-p-0.9-epoch100.pt', 'TTCL-p-0.8-epoch100.pt',\n",
    "         'TTCL-p-0.7-epoch100.pt', 'TTCL-p-0.6-epoch100.pt']\n",
    "models = [ModelConv(), Model(device=device), Model(device=device), Model(device=device), Model(device=device)]\n",
    "\n",
    "adv_accs_2 = []\n",
    "\n",
    "for i, (file, model_name) in enumerate(zip(files, models)):\n",
    "    path = folder + file\n",
    "\n",
    "    epoch, model, train_loss, test_loss, train_accuracy, test_accuracy = load_checkpoint(path, model_name)\n",
    "\n",
    "    model = model.eval()\n",
    "    fmodel = fb.PyTorchModel(model, bounds=(-3, 3))\n",
    "\n",
    "    adv_acc = eval_adv_acc(fmodel, test_loader, epsilons, attack, device=device)\n",
    "    adv_accs_2.append(adv_acc)"
   ]
  },
  {
   "cell_type": "code",
   "execution_count": null,
   "metadata": {},
   "outputs": [],
   "source": [
    "print('eps', end='\\t\\t\\t')\n",
    "for eps in epsilons:\n",
    "    print(f'{eps:.6f}', end='\\t\\t')\n",
    "print()\n",
    "\n",
    "print('baseline', end='\\t\\t')\n",
    "for j, eps in enumerate(epsilons):\n",
    "    print(adv_acc_baseline[0][j], end='\\t')\n",
    "print()\n",
    "\n",
    "for i, f in enumerate(files):\n",
    "    print(f, end='\\t')\n",
    "    for j, eps in enumerate(epsilons):\n",
    "        print(adv_accs[i][j], end='\\t')\n",
    "    print()"
   ]
  },
  {
   "cell_type": "markdown",
   "metadata": {},
   "source": [
    "## FGSM"
   ]
  },
  {
   "cell_type": "code",
   "execution_count": null,
   "metadata": {},
   "outputs": [],
   "source": [
    "# epsilons = np.linspace(0.0, 1e-1, num=5)\n",
    "epsilons = [2 * 1e-3 / 255, 8 * 1e-3 / 255, 16 * 1e-3 / 255]\n",
    "attack = fb.attacks.PGD()\n",
    "\n",
    "model_names = ['TTTuckerRTRL', 'TTRTRL', 'TuckerRTRL']\n",
    "model_funcs = [resnet20TTTuckerRTRL, resnet20TTRTRL, resnet20TuckerRTRL]\n",
    "model_paths = ['RTTTRL-', 'RTT-', 'RTRL-']\n",
    "ps = [1, 0.9, 0.8, 0.7, 0.6]\n",
    "\n",
    "adv_accs = []\n",
    "\n",
    "for i, (model_name, model_func, model_path) in enumerate(zip(model_names, model_funcs, model_paths)):\n",
    "    adv_accs.append([])\n",
    "    for p in ps:\n",
    "        path = model_path + f'p-{p}.pt'\n",
    "            \n",
    "        epoch, model, train_loss, test_loss, train_accuracy, test_accuracy = load_checkpoint(path, p, model_func)\n",
    "\n",
    "        model = model.eval()\n",
    "        fmodel = fb.PyTorchModel(model, bounds=(-3, 3))\n",
    "\n",
    "        adv_acc = eval_adv_acc(fmodel, test_loader, epsilons, attack, device=device)\n",
    "        adv_accs[-1].append(adv_acc)"
   ]
  },
  {
   "cell_type": "code",
   "execution_count": null,
   "metadata": {},
   "outputs": [],
   "source": [
    "foolbox.attacks.FGSM()"
   ]
  },
  {
   "cell_type": "markdown",
   "metadata": {},
   "source": [
    "##  Basic Iterative Method "
   ]
  },
  {
   "cell_type": "code",
   "execution_count": null,
   "metadata": {},
   "outputs": [],
   "source": []
  }
 ],
 "metadata": {
  "kernelspec": {
   "display_name": "Python 3",
   "language": "python",
   "name": "python3"
  },
  "language_info": {
   "codemirror_mode": {
    "name": "ipython",
    "version": 3
   },
   "file_extension": ".py",
   "mimetype": "text/x-python",
   "name": "python",
   "nbconvert_exporter": "python",
   "pygments_lexer": "ipython3",
   "version": "3.8.5"
  }
 },
 "nbformat": 4,
 "nbformat_minor": 4
}
