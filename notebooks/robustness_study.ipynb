{
 "cells": [
  {
   "cell_type": "markdown",
   "metadata": {},
   "source": [
    "# This notebook contains code for adversarial attacks of resnet + TTRL"
   ]
  },
  {
   "cell_type": "code",
   "execution_count": 1,
   "metadata": {},
   "outputs": [],
   "source": [
    "# !pip install foolbox\n",
    "# !pip install -U tensorly\n",
    "# !pip install -U tensorly-torch"
   ]
  },
  {
   "cell_type": "code",
   "execution_count": 2,
   "metadata": {},
   "outputs": [
    {
     "name": "stderr",
     "output_type": "stream",
     "text": [
      "C:\\Users\\Sasha\\anaconda3\\lib\\site-packages\\tltorch\\factorized_tensors\\core.py:145: UserWarning: Creating a subclass of FactorizedTensor TensorizedTensor with no name.\n",
      "  warnings.warn(f'Creating a subclass of FactorizedTensor {cls.__name__} with no name.')\n"
     ]
    }
   ],
   "source": [
    "import tltorch\n",
    "import torch\n",
    "from torch import nn\n",
    "import numpy as np\n",
    "from torch.utils.data import Dataset, DataLoader\n",
    "from torchvision.datasets import CIFAR10\n",
    "import torchvision.transforms as T\n",
    "from tqdm.notebook import tqdm\n",
    "import matplotlib.pyplot as plt\n",
    "from IPython.display import clear_output\n",
    "import foolbox as fb"
   ]
  },
  {
   "cell_type": "code",
   "execution_count": null,
   "metadata": {},
   "outputs": [],
   "source": [
    "from pynvml import *\n",
    "nvmlInit()\n",
    "for ind in range(torch.cuda.device_count()):\n",
    "    print(f'GPU {ind}: ')\n",
    "    h = nvmlDeviceGetHandleByIndex(ind)\n",
    "    info = nvmlDeviceGetMemoryInfo(h)\n",
    "    print(f'\\ttotal    : {info.total}')\n",
    "    print(f'\\tfree     : {info.free}')\n",
    "    print(f'\\tused     : {info.used}')"
   ]
  },
  {
   "cell_type": "code",
   "execution_count": 4,
   "metadata": {},
   "outputs": [
    {
     "data": {
      "text/plain": [
       "device(type='cpu')"
      ]
     },
     "execution_count": 4,
     "metadata": {},
     "output_type": "execute_result"
    }
   ],
   "source": [
    "device = torch.device('cuda:0' if torch.cuda.is_available() else 'cpu')\n",
    "device"
   ]
  },
  {
   "cell_type": "code",
   "execution_count": 5,
   "metadata": {},
   "outputs": [],
   "source": [
    "def get_cifar10_transform(train=True):\n",
    "    if train:\n",
    "        transform = T.Compose([\n",
    "            T.RandomCrop(32, padding=4),\n",
    "            T.RandomHorizontalFlip(),\n",
    "            T.ToTensor(),\n",
    "            T.Normalize((0.49139968, 0.48215827 ,0.44653124), (0.24703233, 0.24348505, 0.26158768), inplace=True)\n",
    "\n",
    "        ])\n",
    "\n",
    "    else:\n",
    "        transform = T.Compose([\n",
    "            T.ToTensor(),\n",
    "            T.Normalize((0.49139968, 0.48215827 ,0.44653124), (0.24703233, 0.24348505, 0.26158768))\n",
    "        ])\n",
    "\n",
    "    return transform"
   ]
  },
  {
   "cell_type": "code",
   "execution_count": 6,
   "metadata": {},
   "outputs": [
    {
     "name": "stdout",
     "output_type": "stream",
     "text": [
      "Downloading https://www.cs.toronto.edu/~kriz/cifar-10-python.tar.gz to CIFAR10\\cifar-10-python.tar.gz\n"
     ]
    },
    {
     "data": {
      "application/vnd.jupyter.widget-view+json": {
       "model_id": "d87bab33a6d949a39fbcece22badda31",
       "version_major": 2,
       "version_minor": 0
      },
      "text/plain": [
       "HBox(children=(HTML(value=''), FloatProgress(value=0.0, max=170498071.0), HTML(value='')))"
      ]
     },
     "metadata": {},
     "output_type": "display_data"
    },
    {
     "name": "stdout",
     "output_type": "stream",
     "text": [
      "\n",
      "Extracting CIFAR10\\cifar-10-python.tar.gz to CIFAR10\n",
      "Files already downloaded and verified\n"
     ]
    }
   ],
   "source": [
    "batch_size = 32\n",
    "\n",
    "train_set = CIFAR10('CIFAR10', train=True, download=True,\n",
    "                    transform=get_cifar10_transform(train=True))\n",
    "test_set = CIFAR10('CIFAR10', train=False, download=True,\n",
    "                   transform=get_cifar10_transform(train=False))\n",
    "train_loader = DataLoader(train_set, batch_size=batch_size, pin_memory=True, num_workers=2, shuffle=True)\n",
    "test_loader = DataLoader(test_set, batch_size=batch_size, pin_memory=True, num_workers=2)"
   ]
  },
  {
   "cell_type": "code",
   "execution_count": 7,
   "metadata": {},
   "outputs": [],
   "source": [
    "def load_checkpoint(path, model, **kwargs):\n",
    "    model = model.to(device)\n",
    "\n",
    "    checkpoint = torch.load(path, map_location=device)\n",
    "    model.load_state_dict(checkpoint['model_state_dict'])\n",
    "    epoch = checkpoint['epoch']\n",
    "    train_loss = checkpoint['train_loss']\n",
    "    test_loss = checkpoint['test_loss']\n",
    "    train_accuracy = checkpoint['train_accuracy']\n",
    "    test_accuracy = checkpoint['test_accuracy']\n",
    "\n",
    "    return epoch, model, train_loss, test_loss, train_accuracy, test_accuracy"
   ]
  },
  {
   "cell_type": "code",
   "execution_count": 8,
   "metadata": {},
   "outputs": [],
   "source": [
    "def eval_adv_acc(fmodel, val_dataloader, epsilons, attack, device=\"cuda:0\", desc='Evaluating...'):\n",
    "    model.to(device)\n",
    "    model.eval()\n",
    "\n",
    "    accuracy = np.zeros(len(epsilons))\n",
    "\n",
    "    for images, labels in tqdm(val_dataloader, desc=desc):\n",
    "\n",
    "        images = images.to(device)\n",
    "        labels = labels.to(device)\n",
    "        raw, clipped, is_adv = attack(fmodel, images, labels, epsilons=epsilons)\n",
    "    \n",
    "        accuracy += (1 - is_adv.double().mean(axis=-1)).cpu().numpy()\n",
    "\n",
    "    return accuracy / len(val_dataloader)"
   ]
  },
  {
   "cell_type": "code",
   "execution_count": 9,
   "metadata": {},
   "outputs": [],
   "source": [
    "import sys\n",
    "sys.path.insert(0,'../models')\n",
    "from TTCL import TTCL\n",
    "from conv_models import Model, ModelConv"
   ]
  },
  {
   "cell_type": "markdown",
   "metadata": {},
   "source": [
    "## PGD attack"
   ]
  },
  {
   "cell_type": "code",
   "execution_count": null,
   "metadata": {},
   "outputs": [
    {
     "data": {
      "application/vnd.jupyter.widget-view+json": {
       "model_id": "44bb55a4d3e142f18177182d33d3242c",
       "version_major": 2,
       "version_minor": 0
      },
      "text/plain": [
       "HBox(children=(HTML(value='Evaluating...'), FloatProgress(value=0.0, max=313.0), HTML(value='')))"
      ]
     },
     "metadata": {},
     "output_type": "display_data"
    }
   ],
   "source": [
    "# epsilons = [2 * 1e-3 / 255, 8 * 1e-3 / 255, 16 * 1e-3 / 255]\n",
    "epsilons = np.linspace(0.0, 1e-1, num=5)\n",
    "attack = fb.attacks.PGD()\n",
    "\n",
    "folder = 'trained_models/'\n",
    "files = ['TTCL-conv--epoch100.pt', 'TTCL-p-1-epoch100.pt', 'TTCL-p-0.9-epoch100.pt', 'TTCL-p-0.8-epoch100.pt',\n",
    "         'TTCL-p-0.7-epoch100.pt', 'TTCL-p-0.6-epoch100.pt']\n",
    "models = [ModelConv(), Model(device=device), Model(device=device), Model(device=device), Model(device=device)]\n",
    "\n",
    "adv_accs = []\n",
    "\n",
    "for i, (file, model_name) in enumerate(zip(files, models)):\n",
    "    path = folder + file\n",
    "\n",
    "    epoch, model, train_loss, test_loss, train_accuracy, test_accuracy = load_checkpoint(path, model_name)\n",
    "\n",
    "    model = model.eval()\n",
    "    fmodel = fb.PyTorchModel(model, bounds=(-3, 3))\n",
    "\n",
    "    adv_acc = eval_adv_acc(fmodel, test_loader, epsilons, attack, device=device)\n",
    "    adv_accs.append(adv_acc)"
   ]
  },
  {
   "cell_type": "code",
   "execution_count": null,
   "metadata": {},
   "outputs": [],
   "source": [
    "print('eps', end='\\t\\t\\t')\n",
    "for eps in epsilons:\n",
    "    print(f'{eps:.6f}', end='\\t\\t')\n",
    "print()\n",
    "\n",
    "for i, f in enumerate(files):\n",
    "    print(f, end='\\t')\n",
    "    for j, eps in enumerate(epsilons):\n",
    "        print(adv_accs[i][j], end='\\t')\n",
    "    print()"
   ]
  }
 ],
 "metadata": {
  "kernelspec": {
   "display_name": "Python 3",
   "language": "python",
   "name": "python3"
  },
  "language_info": {
   "codemirror_mode": {
    "name": "ipython",
    "version": 3
   },
   "file_extension": ".py",
   "mimetype": "text/x-python",
   "name": "python",
   "nbconvert_exporter": "python",
   "pygments_lexer": "ipython3",
   "version": "3.8.5"
  }
 },
 "nbformat": 4,
 "nbformat_minor": 4
}
