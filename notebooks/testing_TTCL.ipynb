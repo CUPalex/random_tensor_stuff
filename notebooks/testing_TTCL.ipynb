{
 "cells": [
  {
   "cell_type": "code",
   "execution_count": 1,
   "metadata": {},
   "outputs": [
    {
     "name": "stderr",
     "output_type": "stream",
     "text": [
      "C:\\Users\\Sasha\\anaconda3\\lib\\site-packages\\tltorch\\factorized_tensors\\core.py:145: UserWarning: Creating a subclass of FactorizedTensor TensorizedTensor with no name.\n",
      "  warnings.warn(f'Creating a subclass of FactorizedTensor {cls.__name__} with no name.')\n"
     ]
    }
   ],
   "source": [
    "import tltorch\n",
    "import torch\n",
    "from torch import nn\n",
    "import numpy as np\n",
    "from torch.utils.data import Dataset, DataLoader\n",
    "from torchvision.datasets import CIFAR100\n",
    "import torchvision.transforms as T\n",
    "from tqdm.notebook import tqdm\n",
    "import matplotlib.pyplot as plt\n",
    "from IPython.display import clear_output"
   ]
  },
  {
   "cell_type": "code",
   "execution_count": 2,
   "metadata": {},
   "outputs": [
    {
     "data": {
      "text/plain": [
       "device(type='cpu')"
      ]
     },
     "execution_count": 2,
     "metadata": {},
     "output_type": "execute_result"
    }
   ],
   "source": [
    "device = torch.device('cuda:0' if torch.cuda.is_available() else 'cpu')\n",
    "device"
   ]
  },
  {
   "cell_type": "code",
   "execution_count": 3,
   "metadata": {},
   "outputs": [],
   "source": [
    "import sys\n",
    "sys.path.insert(0,'../models')\n",
    "from TTCL import TTCL"
   ]
  },
  {
   "cell_type": "code",
   "execution_count": 4,
   "metadata": {},
   "outputs": [],
   "source": [
    "a = torch.rand(3, 256, 4, 4)"
   ]
  },
  {
   "cell_type": "code",
   "execution_count": 34,
   "metadata": {},
   "outputs": [],
   "source": [
    "model = nn.Sequential(\n",
    "    TTCL((4, 4, 8, 2), (3, 3, 3, 3), 4, rank=(10, 10, 10, 10, 1), p=1)\n",
    ").train()"
   ]
  },
  {
   "cell_type": "code",
   "execution_count": 37,
   "metadata": {},
   "outputs": [
    {
     "data": {
      "text/plain": [
       "tensor([[-0.0654,  0.0250, -0.0008,  0.0401, -0.0086, -0.0495,  0.1181, -0.0849,\n",
       "          0.0653,  0.0944, -0.0583,  0.0346,  0.0048,  0.0779, -0.1036,  0.0801,\n",
       "          0.0246, -0.0518,  0.0701, -0.0395,  0.0335, -0.0092,  0.0199,  0.0219,\n",
       "         -0.0816,  0.0005, -0.1234, -0.0798,  0.0218,  0.0243,  0.0235, -0.0544,\n",
       "          0.0860,  0.0510, -0.0134,  0.0630,  0.1308, -0.0465,  0.0671,  0.0511,\n",
       "          0.0298,  0.0156,  0.0388,  0.0238,  0.0092,  0.1077, -0.0487,  0.0311,\n",
       "         -0.0291,  0.0871, -0.0496, -0.0089,  0.0066, -0.0257, -0.0203,  0.0182,\n",
       "         -0.0372, -0.0154, -0.0122, -0.0462, -0.0071, -0.0360, -0.0142, -0.0994,\n",
       "          0.0522, -0.0381, -0.0300, -0.0698, -0.0094,  0.0071, -0.0498,  0.1135,\n",
       "         -0.1019,  0.0510, -0.0593, -0.0365, -0.1005,  0.1486, -0.0457, -0.0194,\n",
       "          0.0178],\n",
       "        [-0.0090,  0.0109,  0.0387,  0.0599, -0.0144, -0.0199,  0.0842, -0.0141,\n",
       "          0.0372,  0.1259, -0.0785,  0.0564,  0.0312,  0.0392, -0.0755,  0.0484,\n",
       "          0.0426, -0.1064,  0.0652, -0.0132,  0.0618, -0.0343,  0.0422,  0.0609,\n",
       "         -0.1122,  0.0156, -0.0186, -0.0772,  0.0457,  0.0037,  0.0308, -0.0016,\n",
       "          0.0322,  0.0482, -0.0179,  0.0483,  0.1350, -0.1022,  0.0780,  0.0484,\n",
       "          0.0381,  0.1144, -0.0018,  0.0412, -0.0308,  0.0622, -0.0006,  0.0466,\n",
       "         -0.0271,  0.1185, -0.1445,  0.0012, -0.0015, -0.0361,  0.0077,  0.0350,\n",
       "         -0.0649, -0.0100, -0.0167, -0.0236, -0.0193, -0.0031, -0.0134, -0.1950,\n",
       "          0.0698, -0.1020, -0.0254, -0.0488, -0.0123,  0.0320, -0.0844,  0.0810,\n",
       "         -0.1004,  0.0776, -0.0899, -0.0163, -0.1049,  0.1820, -0.0099,  0.0114,\n",
       "          0.0758],\n",
       "        [-0.0203,  0.0175, -0.0005,  0.0592, -0.0278, -0.0404,  0.1140, -0.0544,\n",
       "          0.0886,  0.1480, -0.0957,  0.0690,  0.0487,  0.0849, -0.0862,  0.0499,\n",
       "          0.0357, -0.0917,  0.0454, -0.0402,  0.0154,  0.0192, -0.0189,  0.0608,\n",
       "         -0.0733,  0.0243, -0.0331, -0.0231,  0.0146, -0.0319,  0.0579, -0.0381,\n",
       "          0.0428,  0.0455, -0.0037,  0.0277,  0.1019, -0.0628,  0.0667,  0.0452,\n",
       "          0.0508,  0.0183,  0.0062,  0.0179,  0.0103,  0.0552, -0.0622,  0.0487,\n",
       "         -0.0108,  0.1095, -0.0964, -0.0420,  0.0019, -0.0450, -0.0245,  0.0394,\n",
       "         -0.0366, -0.0469,  0.0078, -0.0429, -0.0164,  0.0195,  0.0209, -0.1306,\n",
       "          0.0709, -0.0882, -0.0123, -0.0411, -0.0126,  0.0262, -0.0880,  0.1074,\n",
       "         -0.0755,  0.0482, -0.0890, -0.0380, -0.0957,  0.1318,  0.0038, -0.0159,\n",
       "          0.0477]], grad_fn=<ViewBackward0>)"
      ]
     },
     "execution_count": 37,
     "metadata": {},
     "output_type": "execute_result"
    }
   ],
   "source": [
    "model(a).view(3, -1)"
   ]
  },
  {
   "cell_type": "code",
   "execution_count": 7,
   "metadata": {},
   "outputs": [
    {
     "data": {
      "text/plain": [
       "2560.0"
      ]
     },
     "execution_count": 7,
     "metadata": {},
     "output_type": "execute_result"
    }
   ],
   "source": [
    "92160 / 3  / 3 / 4"
   ]
  },
  {
   "cell_type": "code",
   "execution_count": null,
   "metadata": {},
   "outputs": [],
   "source": []
  }
 ],
 "metadata": {
  "kernelspec": {
   "display_name": "Python 3",
   "language": "python",
   "name": "python3"
  },
  "language_info": {
   "codemirror_mode": {
    "name": "ipython",
    "version": 3
   },
   "file_extension": ".py",
   "mimetype": "text/x-python",
   "name": "python",
   "nbconvert_exporter": "python",
   "pygments_lexer": "ipython3",
   "version": "3.8.5"
  }
 },
 "nbformat": 4,
 "nbformat_minor": 4
}
