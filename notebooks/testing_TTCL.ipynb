{
 "cells": [
  {
   "cell_type": "code",
   "execution_count": 1,
   "metadata": {},
   "outputs": [
    {
     "name": "stderr",
     "output_type": "stream",
     "text": [
      "C:\\Users\\Sasha\\anaconda3\\lib\\site-packages\\tltorch\\factorized_tensors\\core.py:145: UserWarning: Creating a subclass of FactorizedTensor TensorizedTensor with no name.\n",
      "  warnings.warn(f'Creating a subclass of FactorizedTensor {cls.__name__} with no name.')\n"
     ]
    }
   ],
   "source": [
    "import tltorch\n",
    "import torch\n",
    "from torch import nn\n",
    "import numpy as np\n",
    "from torch.utils.data import Dataset, DataLoader\n",
    "from torchvision.datasets import CIFAR100\n",
    "import torchvision.transforms as T\n",
    "from tqdm.notebook import tqdm\n",
    "import matplotlib.pyplot as plt\n",
    "from IPython.display import clear_output"
   ]
  },
  {
   "cell_type": "code",
   "execution_count": 2,
   "metadata": {},
   "outputs": [
    {
     "data": {
      "text/plain": [
       "device(type='cpu')"
      ]
     },
     "execution_count": 2,
     "metadata": {},
     "output_type": "execute_result"
    }
   ],
   "source": [
    "device = torch.device('cuda:0' if torch.cuda.is_available() else 'cpu')\n",
    "device"
   ]
  },
  {
   "cell_type": "code",
   "execution_count": 3,
   "metadata": {},
   "outputs": [],
   "source": [
    "import sys\n",
    "sys.path.insert(0,'../models')\n",
    "from TTCL import TTCL"
   ]
  },
  {
   "cell_type": "code",
   "execution_count": 4,
   "metadata": {},
   "outputs": [],
   "source": [
    "a = torch.rand(3, 256, 4, 4)"
   ]
  },
  {
   "cell_type": "code",
   "execution_count": 5,
   "metadata": {},
   "outputs": [],
   "source": [
    "model = nn.Sequential(\n",
    "    TTCL((4, 4, 8, 2), (3,3,3,3), 4, rank=(10, 10, 10, 10, 1), p=1)\n",
    ").eval()"
   ]
  },
  {
   "cell_type": "code",
   "execution_count": 8,
   "metadata": {},
   "outputs": [
    {
     "name": "stdout",
     "output_type": "stream",
     "text": [
      "torch.Size([10, 256, 3, 1, 1])\n",
      "0 29.989359\n",
      "torch.Size([10, 64, 1, 3, 3, 1, 1])\n",
      "1 12.412917\n",
      "torch.Size([10, 16, 3, 3, 3, 1, 1])\n",
      "2 4.9390597\n",
      "torch.Size([10, 2, 9, 3, 3, 1, 1])\n",
      "3 1.6218241\n"
     ]
    },
    {
     "data": {
      "text/plain": [
       "tensor([[ 0.0369,  0.0175,  0.0063, -0.0838, -0.1004, -0.0397, -0.0324, -0.0229,\n",
       "          0.0534, -0.0101, -0.0406, -0.0089,  0.0948,  0.0155, -0.0212,  0.0494,\n",
       "          0.0036,  0.0270, -0.0354, -0.0453, -0.0073,  0.0294,  0.0465,  0.0613,\n",
       "          0.0216,  0.0343,  0.0047, -0.0115, -0.0139, -0.0246,  0.0091,  0.0141,\n",
       "         -0.0110,  0.0739,  0.0760,  0.0216, -0.0217,  0.0641,  0.0271, -0.0213,\n",
       "         -0.0082, -0.0293, -0.0853, -0.0372, -0.0496, -0.0379, -0.0352, -0.0064,\n",
       "          0.0030, -0.0357, -0.0979,  0.0759,  0.0387, -0.0072, -0.0560,  0.0072,\n",
       "          0.0270, -0.0299,  0.0388,  0.0290, -0.0052,  0.0352, -0.0342, -0.0250,\n",
       "         -0.0172,  0.0039,  0.0141,  0.0476,  0.0688,  0.0158,  0.0235, -0.0191,\n",
       "          0.0585,  0.0578,  0.0442, -0.0230, -0.0033,  0.0258, -0.0110,  0.0167,\n",
       "         -0.0185],\n",
       "        [ 0.0571,  0.0324, -0.0166, -0.1059, -0.0581, -0.0828, -0.0281, -0.0452,\n",
       "          0.0190, -0.0944, -0.0375, -0.0100,  0.0417,  0.0050, -0.0275,  0.0132,\n",
       "         -0.0222,  0.0274, -0.0110, -0.0516, -0.0102,  0.0382,  0.0723,  0.0374,\n",
       "         -0.0202,  0.0099, -0.0107, -0.0379, -0.0326, -0.0228,  0.0301,  0.0241,\n",
       "         -0.0557,  0.0756,  0.0495,  0.0556,  0.0212,  0.1019, -0.0150, -0.0764,\n",
       "         -0.0339, -0.0280, -0.0423, -0.0244, -0.0215,  0.0333, -0.0148,  0.0022,\n",
       "          0.0380, -0.0523, -0.0749,  0.1170,  0.0510,  0.0270, -0.0679,  0.0092,\n",
       "         -0.0021, -0.0376,  0.0333, -0.0137, -0.0750, -0.0342, -0.0096, -0.0367,\n",
       "         -0.0255, -0.0145, -0.0052, -0.0030,  0.0468, -0.0003, -0.0025, -0.0088,\n",
       "          0.0802,  0.0460,  0.0322, -0.0242, -0.0010, -0.0188, -0.0607,  0.0169,\n",
       "         -0.0370],\n",
       "        [ 0.0552,  0.0442,  0.0006, -0.1120, -0.0872, -0.0295, -0.0358, -0.0187,\n",
       "         -0.0031, -0.0686, -0.0541,  0.0007,  0.0798,  0.0172, -0.0254,  0.0448,\n",
       "         -0.0068,  0.0258, -0.0283, -0.0396, -0.0149,  0.0223,  0.0281,  0.0579,\n",
       "         -0.0557,  0.0140, -0.0072,  0.0309,  0.0003, -0.0559,  0.0020, -0.0006,\n",
       "         -0.0274,  0.0604,  0.0620,  0.0472, -0.0049,  0.0671,  0.0327, -0.0718,\n",
       "         -0.0401, -0.0199, -0.0388, -0.0221, -0.0313, -0.0201, -0.0057,  0.0057,\n",
       "          0.0258, -0.0136, -0.0877,  0.1041,  0.0443, -0.0163, -0.0517,  0.0202,\n",
       "          0.0209, -0.0490,  0.0569,  0.0060, -0.0436,  0.0192, -0.0405,  0.0025,\n",
       "         -0.0181, -0.0117,  0.0114,  0.0687,  0.0558,  0.0407,  0.0268, -0.0573,\n",
       "          0.0645,  0.0592,  0.0279, -0.0340, -0.0197,  0.0153,  0.0240,  0.0026,\n",
       "         -0.0343]], grad_fn=<ViewBackward0>)"
      ]
     },
     "execution_count": 8,
     "metadata": {},
     "output_type": "execute_result"
    }
   ],
   "source": [
    "model(a).view(3, -1)"
   ]
  },
  {
   "cell_type": "code",
   "execution_count": 7,
   "metadata": {},
   "outputs": [
    {
     "data": {
      "text/plain": [
       "2560.0"
      ]
     },
     "execution_count": 7,
     "metadata": {},
     "output_type": "execute_result"
    }
   ],
   "source": [
    "92160 / 3  / 3 / 4"
   ]
  },
  {
   "cell_type": "code",
   "execution_count": null,
   "metadata": {},
   "outputs": [],
   "source": []
  }
 ],
 "metadata": {
  "kernelspec": {
   "display_name": "Python 3",
   "language": "python",
   "name": "python3"
  },
  "language_info": {
   "codemirror_mode": {
    "name": "ipython",
    "version": 3
   },
   "file_extension": ".py",
   "mimetype": "text/x-python",
   "name": "python",
   "nbconvert_exporter": "python",
   "pygments_lexer": "ipython3",
   "version": "3.8.5"
  }
 },
 "nbformat": 4,
 "nbformat_minor": 4
}
