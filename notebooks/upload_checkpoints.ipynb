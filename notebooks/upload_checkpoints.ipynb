{
 "cells": [
  {
   "cell_type": "code",
   "execution_count": null,
   "metadata": {},
   "outputs": [],
   "source": [
    "import tltorch\n",
    "import torch\n",
    "from torch import nn\n",
    "import numpy as np\n",
    "from torch.utils.data import Dataset, DataLoader\n",
    "from torchvision.datasets import CIFAR10\n",
    "import torchvision.transforms as T\n",
    "from tqdm.notebook import tqdm\n",
    "import matplotlib.pyplot as plt\n",
    "from IPython.display import clear_output"
   ]
  },
  {
   "cell_type": "code",
   "execution_count": null,
   "metadata": {},
   "outputs": [],
   "source": [
    "device = torch.device('cuda:0' if torch.cuda.is_available() else 'cpu')\n",
    "device"
   ]
  },
  {
   "cell_type": "code",
   "execution_count": null,
   "metadata": {},
   "outputs": [],
   "source": [
    "def plot_losses_epoch(loss, accuracy, train_losses, test_losses, train_accuracies, test_accuracies):\n",
    "    clear_output()\n",
    "    fig, axs = plt.subplots(2, 2, figsize=(15, 8))\n",
    "    axs[0][0].plot(range(1, len(train_losses) + 1), train_losses, label='train')\n",
    "    axs[0][0].plot(range(1, len(test_losses) + 1), test_losses, label='test')\n",
    "    axs[0][0].set_ylabel('loss')\n",
    "    axs[0][0].set_xlabel('epoch')\n",
    "    axs[0][0].legend()\n",
    "\n",
    "    axs[0][1].plot(range(1, len(train_accuracies) + 1), train_accuracies, label='train')\n",
    "    axs[0][1].plot(range(1, len(test_accuracies) + 1), test_accuracies, label='test')\n",
    "    axs[0][1].set_ylabel('accuracy')\n",
    "    axs[0][1].set_xlabel('epoch')\n",
    "    axs[0][1].legend()\n",
    "\n",
    "    axs[1][0].plot(range(1, len(loss) + 1), loss)\n",
    "    axs[1][0].set_ylabel('loss')\n",
    "    axs[1][0].set_xlabel('batch')\n",
    "\n",
    "    axs[1][1].plot(range(1, len(accuracy) + 1), accuracy)\n",
    "    axs[1][1].set_ylabel('accuracy')\n",
    "    axs[1][1].set_xlabel('batch')\n",
    "\n",
    "    for r_ax in axs:\n",
    "        for ax in r_ax:\n",
    "            ax.grid()\n",
    "\n",
    "    plt.show()"
   ]
  },
  {
   "cell_type": "code",
   "execution_count": null,
   "metadata": {},
   "outputs": [],
   "source": [
    "import sys\n",
    "sys.path.insert(0,'../models')\n",
    "from TTCL import TTCL\n",
    "from conv_models import Model, ModelConv"
   ]
  },
  {
   "cell_type": "code",
   "execution_count": null,
   "metadata": {},
   "outputs": [],
   "source": [
    "def load_checkpoint(path, modelclass, **kwargs):\n",
    "    model = modelclass(**kwargs).to(device)\n",
    "\n",
    "    checkpoint = torch.load(path, map_location=device)\n",
    "    model.load_state_dict(checkpoint['model_state_dict'])\n",
    "    epoch = checkpoint['epoch']\n",
    "    train_loss = checkpoint['train_loss']\n",
    "    test_loss = checkpoint['test_loss']\n",
    "    train_accuracy = checkpoint['train_accuracy']\n",
    "    test_accuracy = checkpoint['test_accuracy']\n",
    "\n",
    "    return epoch, model, train_loss, test_loss, train_accuracy, test_accuracy\n",
    "\n",
    "path = 'trained_models/TTCL-p-0.9-epoch100.pt'\n",
    "epoch, model, train_loss, test_loss, train_accuracy, test_accuracy = load_checkpoint(path, Model)\n",
    "\n",
    "plot_losses_epoch(train_loss, train_accuracy, train_loss, test_loss, train_accuracy, test_accuracy)"
   ]
  },
  {
   "cell_type": "code",
   "execution_count": null,
   "metadata": {},
   "outputs": [],
   "source": [
    "def get_cifar10_transform(train=True):\n",
    "    if train:\n",
    "        transform = T.Compose([\n",
    "            T.RandomCrop(32, padding=4),\n",
    "            T.RandomHorizontalFlip(),\n",
    "            T.ToTensor(),\n",
    "            T.Normalize((0.49139968, 0.48215827 ,0.44653124), (0.24703233, 0.24348505, 0.26158768), inplace=True)\n",
    "\n",
    "        ])\n",
    "\n",
    "    else:\n",
    "        transform = T.Compose([\n",
    "            T.ToTensor(),\n",
    "            T.Normalize((0.49139968, 0.48215827 ,0.44653124), (0.24703233, 0.24348505, 0.26158768))\n",
    "        ])\n",
    "\n",
    "    return transform"
   ]
  },
  {
   "cell_type": "code",
   "execution_count": null,
   "metadata": {},
   "outputs": [],
   "source": [
    "batch_size = 32\n",
    "\n",
    "test_set = CIFAR10('CIFAR10', train=False, download=True,\n",
    "                   transform=get_cifar10_transform(train=False))\n",
    "test_loader = DataLoader(test_set, batch_size=batch_size, pin_memory=True, num_workers=2)"
   ]
  },
  {
   "cell_type": "code",
   "execution_count": null,
   "metadata": {},
   "outputs": [],
   "source": [
    "def get_acc(model, dataloader, device=\"cuda:3\", desc='Evaluating...'):\n",
    "    model.to(device)\n",
    "    model.eval()\n",
    "\n",
    "    predicted_classes = torch.Tensor()\n",
    "    true_classes = torch.Tensor()\n",
    "    top5_predicted_classes = torch.Tensor()\n",
    "\n",
    "    for images, labels in dataloader:\n",
    "\n",
    "        images = images.to(device)\n",
    "        labels = labels.to(device)\n",
    "        \n",
    "        with torch.no_grad():\n",
    "            logits = model(images)\n",
    "        \n",
    "        predicted_classes = torch.cat((predicted_classes, (logits.argmax(dim=-1)).to('cpu')))\n",
    "        true_classes = torch.cat((true_classes, labels.to('cpu')))\n",
    "        top5_predicted_classes = torch.cat((top5_predicted_classes, (torch.topk(logits, 5).indices.to('cpu')).view(len(images), -1)), dim=0)\n",
    "\n",
    "\n",
    "    accuracy = (predicted_classes == true_classes).type(torch.DoubleTensor).mean().item()\n",
    "    top5_accuracy = (top5_predicted_classes == true_classes.view(-1, 1)).any(dim=1).type(torch.DoubleTensor).mean().item()\n",
    "    \n",
    "    return accuracy, top5_accuracy"
   ]
  },
  {
   "cell_type": "code",
   "execution_count": null,
   "metadata": {},
   "outputs": [],
   "source": [
    "baseline_number_of_parameters = 557642\n",
    "\n",
    "def count_parameters(model):\n",
    "    return sum(p.numel() for p in model.parameters() if p.requires_grad)\n",
    "\n",
    "folder = 'trained_models/'\n",
    "files = ['TTCL-p-1-epoch100.pt', 'TTCL-p-0.9-epoch100.pt', 'TTCL-p-0.8-epoch100.pt',\n",
    "         'TTCL-p-0.7-epoch100.pt', 'TTCL-p-0.6-epoch100.pt']\n",
    "\n",
    "for file in files:\n",
    "    path = folder + file\n",
    "    epoch, model, train_loss, test_loss, train_accuracy, test_accuracy = load_checkpoint(path, Model)\n",
    "    \n",
    "    print(file)\n",
    "\n",
    "    print(f'Best top-1 test accuracy: {np.max(test_accuracy)}')\n",
    "\n",
    "    print(f'Number of parameters: {count_parameters(model)}')\n",
    "    print(f'Compression ratio: {baseline_number_of_parameters / count_parameters(model)}')\n",
    "\n",
    "    (acc, top5_acc) = get_acc(model, test_loader, device)\n",
    "    print(f'Top-1 accuracy: {acc:.3f}\\nTop-5 accuracy: {top5_acc:.3f}')\n",
    "    \n",
    "    print()"
   ]
  }
 ],
 "metadata": {
  "kernelspec": {
   "display_name": "Python 3",
   "language": "python",
   "name": "python3"
  },
  "language_info": {
   "codemirror_mode": {
    "name": "ipython",
    "version": 3
   },
   "file_extension": ".py",
   "mimetype": "text/x-python",
   "name": "python",
   "nbconvert_exporter": "python",
   "pygments_lexer": "ipython3",
   "version": "3.8.5"
  }
 },
 "nbformat": 4,
 "nbformat_minor": 5
}
