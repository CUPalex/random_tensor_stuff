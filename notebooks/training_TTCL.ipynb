{
 "cells": [
  {
   "cell_type": "markdown",
   "metadata": {},
   "source": [
    "# Training model with TTCL layers\n",
    "\n",
    "This is a pytorch implementation of experiments from [this paper](https://arxiv.org/pdf/1611.03214.pdf)"
   ]
  },
  {
   "cell_type": "code",
   "execution_count": 1,
   "metadata": {},
   "outputs": [],
   "source": [
    "# !pip install ipywidgets\n",
    "# !pip install -U tensorly\n",
    "# !pip install -U tensorly-torch"
   ]
  },
  {
   "cell_type": "code",
   "execution_count": 2,
   "metadata": {},
   "outputs": [
    {
     "name": "stderr",
     "output_type": "stream",
     "text": [
      "C:\\Users\\Sasha\\anaconda3\\lib\\site-packages\\tltorch\\factorized_tensors\\core.py:145: UserWarning: Creating a subclass of FactorizedTensor TensorizedTensor with no name.\n",
      "  warnings.warn(f'Creating a subclass of FactorizedTensor {cls.__name__} with no name.')\n"
     ]
    }
   ],
   "source": [
    "import tltorch\n",
    "import torch\n",
    "from torch import nn\n",
    "import numpy as np\n",
    "from torch.utils.data import Dataset, DataLoader\n",
    "from torchvision.datasets import CIFAR10\n",
    "import torchvision.transforms as T\n",
    "from tqdm.notebook import tqdm\n",
    "import matplotlib.pyplot as plt\n",
    "from IPython.display import clear_output"
   ]
  },
  {
   "cell_type": "code",
   "execution_count": null,
   "metadata": {},
   "outputs": [],
   "source": [
    "from pynvml import *\n",
    "nvmlInit()\n",
    "for ind in range(torch.cuda.device_count()):\n",
    "    print(f'GPU {ind}: ')\n",
    "    h = nvmlDeviceGetHandleByIndex(ind)\n",
    "    info = nvmlDeviceGetMemoryInfo(h)\n",
    "    print(f'\\ttotal    : {info.total}')\n",
    "    print(f'\\tfree     : {info.free}')\n",
    "    print(f'\\tused     : {info.used}')"
   ]
  },
  {
   "cell_type": "code",
   "execution_count": 3,
   "metadata": {},
   "outputs": [
    {
     "data": {
      "text/plain": [
       "device(type='cpu')"
      ]
     },
     "execution_count": 3,
     "metadata": {},
     "output_type": "execute_result"
    }
   ],
   "source": [
    "device = torch.device('cuda:0' if torch.cuda.is_available() else 'cpu')\n",
    "device"
   ]
  },
  {
   "cell_type": "code",
   "execution_count": 4,
   "metadata": {},
   "outputs": [],
   "source": [
    "def get_cifar10_transform(train=True):\n",
    "    if train:\n",
    "        transform = T.Compose([\n",
    "            T.RandomCrop(32, padding=4),\n",
    "            T.RandomHorizontalFlip(),\n",
    "            T.ToTensor(),\n",
    "            T.Normalize((0.49139968, 0.48215827 ,0.44653124), (0.24703233, 0.24348505, 0.26158768), inplace=True)\n",
    "\n",
    "        ])\n",
    "\n",
    "    else:\n",
    "        transform = T.Compose([\n",
    "            T.ToTensor(),\n",
    "            T.Normalize((0.49139968, 0.48215827 ,0.44653124), (0.24703233, 0.24348505, 0.26158768))\n",
    "        ])\n",
    "\n",
    "    return transform"
   ]
  },
  {
   "cell_type": "code",
   "execution_count": 5,
   "metadata": {},
   "outputs": [
    {
     "name": "stdout",
     "output_type": "stream",
     "text": [
      "Files already downloaded and verified\n",
      "Files already downloaded and verified\n"
     ]
    }
   ],
   "source": [
    "batch_size = 32\n",
    "\n",
    "train_set = CIFAR10('CIFAR10', train=True, download=True,\n",
    "                    transform=get_cifar10_transform(train=True))\n",
    "test_set = CIFAR10('CIFAR10', train=False, download=True,\n",
    "                   transform=get_cifar10_transform(train=False))\n",
    "train_loader = DataLoader(train_set, batch_size=batch_size, pin_memory=True, num_workers=2, shuffle=True)\n",
    "test_loader = DataLoader(test_set, batch_size=batch_size, pin_memory=True, num_workers=2)"
   ]
  },
  {
   "cell_type": "code",
   "execution_count": 6,
   "metadata": {},
   "outputs": [],
   "source": [
    "def plot_losses_epoch(loss, accuracy, train_losses, test_losses, train_accuracies, test_accuracies, test_top5_accuracies):\n",
    "    clear_output()\n",
    "    fig, axs = plt.subplots(2, 2, figsize=(15, 8))\n",
    "    axs[0][0].plot(range(1, len(train_losses) + 1), train_losses, label='train')\n",
    "    axs[0][0].plot(range(1, len(test_losses) + 1), test_losses, label='test')\n",
    "    axs[0][0].set_ylabel('loss')\n",
    "    axs[0][0].set_xlabel('epoch')\n",
    "    axs[0][0].legend()\n",
    "\n",
    "    axs[0][1].plot(range(1, len(train_accuracies) + 1), train_accuracies, label='train')\n",
    "    axs[0][1].plot(range(1, len(test_accuracies) + 1), test_accuracies, label='test top1')\n",
    "    axs[0][1].plot(range(1, len(test_top5_accuracies) + 1), test_top5_accuracies, label='test top5')\n",
    "    axs[0][1].set_ylabel('accuracy')\n",
    "    axs[0][1].set_xlabel('epoch')\n",
    "    axs[0][1].legend()\n",
    "\n",
    "    axs[1][0].plot(range(1, len(loss) + 1), loss)\n",
    "    axs[1][0].set_ylabel('loss')\n",
    "    axs[1][0].set_xlabel('batch')\n",
    "\n",
    "    axs[1][1].plot(range(1, len(accuracy) + 1), accuracy)\n",
    "    axs[1][1].set_ylabel('accuracy')\n",
    "    axs[1][1].set_xlabel('batch')\n",
    "\n",
    "    for r_ax in axs:\n",
    "        for ax in r_ax:\n",
    "            ax.grid()\n",
    "\n",
    "    plt.show()"
   ]
  },
  {
   "cell_type": "code",
   "execution_count": 7,
   "metadata": {},
   "outputs": [],
   "source": [
    "def save_checkpoint(epoch, model, optimizer, train_loss, test_loss, test_accuracy, train_accuracy, test_top5_accuracy, path):\n",
    "    torch.save({\n",
    "            'epoch': epoch,\n",
    "            'model_state_dict': model.state_dict(),\n",
    "            'optimizer_state_dict': optimizer.state_dict(),\n",
    "            'train_loss': train_loss,\n",
    "            'test_loss' : test_loss,\n",
    "            'test_accuracy' : test_accuracy,\n",
    "            'train_accuracy' : train_accuracy,\n",
    "            'test_top5_accuracy': test_top5_accuracy\n",
    "            }, path)"
   ]
  },
  {
   "cell_type": "code",
   "execution_count": 8,
   "metadata": {},
   "outputs": [],
   "source": [
    "def train_one_epoch(model, train_dataloader, criterion, optimizer, device=\"cuda:3\", desc='Training...', train_losses=[], test_losses=[], train_accuracies=[], test_accuracies=[], test_top5_accuracies=[]):\n",
    "    model.to(device)\n",
    "    model.train()\n",
    "\n",
    "    losses = []\n",
    "    accuracies = []\n",
    "    predicted_classes = torch.Tensor()\n",
    "    true_classes = torch.Tensor()\n",
    "\n",
    "    batch_num = 0\n",
    "\n",
    "    for images, labels in tqdm(train_dataloader, desc=desc):\n",
    "        optimizer.zero_grad()\n",
    "        images = images.to(device)\n",
    "        labels = labels.to(device)\n",
    "        \n",
    "        logits = model(images)\n",
    "        loss = criterion(logits, labels)\n",
    "        loss.backward()\n",
    "        optimizer.step()\n",
    "        \n",
    "        losses += [loss.item() * images.shape[0]]\n",
    "        predicted_classes = torch.cat((predicted_classes, (logits.argmax(dim=-1)).to('cpu')))\n",
    "        true_classes = torch.cat((true_classes, labels.to('cpu')))\n",
    "        accuracies += [(logits.argmax(dim=-1).to('cpu') == labels.to('cpu')).double().mean().item()]\n",
    "        \n",
    "        if batch_num % 50 == 0:\n",
    "            plot_losses_epoch(losses, accuracies, train_losses, test_losses, train_accuracies, test_accuracies, test_top5_accuracies)\n",
    "        batch_num += 1\n",
    "        \n",
    "    return losses, predicted_classes.tolist(), true_classes.tolist()\n",
    "\n",
    "\n",
    "def predict(model, val_dataloader, criterion, device=\"cuda:3\", desc='Evaluating...'):\n",
    "    model.to(device)\n",
    "    model.eval()\n",
    "\n",
    "    val_losses = []\n",
    "    predicted_classes = torch.Tensor()\n",
    "    true_classes = torch.Tensor()\n",
    "    top5_predicted_classes = torch.Tensor()\n",
    "\n",
    "    for images, labels in tqdm(val_dataloader, desc=desc):\n",
    "\n",
    "        images = images.to(device)\n",
    "        labels = labels.to(device)\n",
    "        \n",
    "        with torch.no_grad():\n",
    "            logits = model(images)\n",
    "            loss = criterion(logits, labels)\n",
    "        \n",
    "        val_losses += [loss.item() * images.shape[0]]\n",
    "        predicted_classes = torch.cat((predicted_classes, (logits.argmax(dim=-1)).to('cpu')))\n",
    "        true_classes = torch.cat((true_classes, labels.to('cpu')))\n",
    "        top5_predicted_classes = torch.cat((top5_predicted_classes, (torch.topk(logits, 5).indices.to('cpu')).view(len(images), -1)), dim=0)\n",
    "\n",
    "    accuracy = (predicted_classes == true_classes).type(torch.DoubleTensor).mean().item()\n",
    "    top5_accuracy = (top5_predicted_classes == true_classes.view(-1, 1)).any(dim=1).type(torch.DoubleTensor).mean().item()\n",
    "    return val_losses, accuracy, top5_accuracy"
   ]
  },
  {
   "cell_type": "code",
   "execution_count": 9,
   "metadata": {},
   "outputs": [],
   "source": [
    "def train(train_losses=[], test_losses=[], train_accuracies=[], test_accuracies=[], test_top5_accuracy=[]):\n",
    "    train_losses = train_losses\n",
    "    test_losses = test_losses\n",
    "    train_accuracies = train_accuracies\n",
    "    test_accuracies = test_accuracies\n",
    "    test_top5_accuracies = test_top5_accuracy\n",
    "\n",
    "    for epoch in range(start_epoch + 1, n_epochs + 1):\n",
    "        train_losses_epoch, train_predicted_classes, train_true_classes = train_one_epoch(model, train_loader, criterion, optimizer, device, f'Training {epoch}/{n_epochs}', train_losses, test_losses, train_accuracies, test_accuracies, test_top5_accuracies)\n",
    "        train_losses += [sum(train_losses_epoch) / len(train_losses_epoch)]\n",
    "        train_accuracies += [(torch.Tensor(train_predicted_classes) == torch.Tensor(train_true_classes)).type(torch.DoubleTensor).mean().item()]\n",
    "        \n",
    "        scheduler.step(epoch)\n",
    "\n",
    "        test_losses_epoch, test_accuracy_estimated, test_top5_accuracy_estimated = predict(model, test_loader, criterion, device, f'Evaluating... {epoch}/{n_epochs}')\n",
    "        test_losses += [sum(test_losses_epoch) / len(test_losses_epoch)]\n",
    "        test_accuracies += [test_accuracy_estimated]\n",
    "        test_top5_accuracies += [test_top5_accuracy_estimated]\n",
    "\n",
    "        if epoch % save_epoch == 0 and epoch > 0:\n",
    "            save_checkpoint(epoch=epoch, model=model, optimizer=optimizer, train_loss=train_losses, \\\n",
    "                test_loss=test_losses, test_accuracy=test_accuracies, train_accuracy=train_accuracies, \\\n",
    "                test_top5_accuracy=test_top5_accuracies, path= save_path + f'-epoch{epoch}.pt')\n",
    "    return train_losses, test_losses, train_accuracies, test_accuracies, test_top5_accuracies"
   ]
  },
  {
   "cell_type": "code",
   "execution_count": 10,
   "metadata": {},
   "outputs": [],
   "source": [
    "import sys\n",
    "sys.path.insert(0,'../models')\n",
    "from TTCL import TTCL\n",
    "from conv_models import Model, ModelConv"
   ]
  },
  {
   "cell_type": "code",
   "execution_count": 11,
   "metadata": {},
   "outputs": [],
   "source": [
    "inp_ch, inp_h, inp_w = (3, 32, 32)\n",
    "p = 0.9\n",
    "\n",
    "ranks409 = [(20, 20, 20, 1),\n",
    "            (25, 20, 20, 1),\n",
    "            (20, 20, 20, 1),\n",
    "            (20, 20, 20, 1),\n",
    "            (20, 20, 20, 1)]\n",
    "\n",
    "ranks325 = [(20, 20, 20, 1),\n",
    "            (27, 22, 22, 1),\n",
    "            (23, 23, 23, 1),\n",
    "            (23, 23, 23, 1),\n",
    "            (23, 23, 23, 1)]\n",
    "\n",
    "ranks233 = [(25, 25, 25, 1),\n",
    "            (30, 27, 27, 1),\n",
    "            (27, 27, 27, 1),\n",
    "            (27, 27, 27, 1),\n",
    "            (27, 27, 27, 1)]\n",
    "\n",
    "ranks206 = [(27, 27, 27, 1),\n",
    "            (30, 30, 27, 1),\n",
    "            (30, 30, 27, 1),\n",
    "            (30, 30, 27, 1),\n",
    "            (30, 30, 27, 1)]\n",
    "\n",
    "ranks = ranks409"
   ]
  },
  {
   "cell_type": "code",
   "execution_count": null,
   "metadata": {},
   "outputs": [],
   "source": [
    "baseline_number_of_parameters = 557642\n",
    "\n",
    "model = Model(ranks=ranks, p=p, device=device)\n",
    "\n",
    "def count_parameters(model):\n",
    "    return sum(p.numel() for p in model.parameters() if p.requires_grad)\n",
    "\n",
    "print(f'Number of parameters: {count_parameters(model)}')\n",
    "print(f'Compression ratio: {(baseline_number_of_parameters / count_parameters(model)):.2f}')\n",
    "\n",
    "compression_ratio=baseline_number_of_parameters / count_parameters(model)"
   ]
  },
  {
   "cell_type": "code",
   "execution_count": null,
   "metadata": {},
   "outputs": [],
   "source": [
    "from torch.optim.lr_scheduler import MultiStepLR\n",
    "start_epoch = 60\n",
    "RESUME = False\n",
    "criterion = nn.CrossEntropyLoss()\n",
    "\n",
    "n_epochs = 100\n",
    "save_epoch = 10\n",
    "\n",
    "inp_ch, inp_h, inp_w = (3, 32, 32)\n",
    "\n",
    "stats = []\n",
    "model = Model(ranks=ranks, p=p, device=device)\n",
    "optimizer = torch.optim.SGD(model.parameters(), lr=1e-1, momentum=0.9)\n",
    "train_losses, test_losses, train_acc, test_acc, test_top5_acc = [], [], [], [], []\n",
    "start_epoch = 0\n",
    "\n",
    "import os\n",
    "dir_path = f'trained_models/'\n",
    "os.makedirs(dir_path, exist_ok=True)\n",
    "save_path = dir_path + f'TTCL-p-{p}-comp-{compression_ratio:.2f}'\n",
    "\n",
    "milestones = [30, 60, 90]\n",
    "scheduler = MultiStepLR(optimizer, milestones=milestones, gamma=0.1)\n",
    "cur_train_losses, cur_test_losses, cur_train_accuracies, cur_test_accuracies, cur_test_top5_accuracies = train(train_losses, test_losses, train_acc, test_acc, test_top5_acc)\n",
    "stats.append({'train_losses' : cur_train_losses,\n",
    "            'test_losses' : cur_test_losses,\n",
    "            'train_accuracies' : cur_train_accuracies,\n",
    "            'test_accuracies' : cur_test_accuracies,\n",
    "            'test_top5_accuracies' : cur_test_top5_accuracies})\n",
    "RESUME = False"
   ]
  }
 ],
 "metadata": {
  "kernelspec": {
   "display_name": "Python 3",
   "language": "python",
   "name": "python3"
  },
  "language_info": {
   "codemirror_mode": {
    "name": "ipython",
    "version": 3
   },
   "file_extension": ".py",
   "mimetype": "text/x-python",
   "name": "python",
   "nbconvert_exporter": "python",
   "pygments_lexer": "ipython3",
   "version": "3.8.5"
  }
 },
 "nbformat": 4,
 "nbformat_minor": 4
}
